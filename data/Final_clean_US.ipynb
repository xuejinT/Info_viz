{
 "cells": [
  {
   "cell_type": "code",
   "execution_count": 1,
   "metadata": {
    "collapsed": true
   },
   "outputs": [],
   "source": [
    "import numpy as np\n",
    "import pandas as pd\n"
   ]
  },
  {
   "cell_type": "code",
   "execution_count": 2,
   "metadata": {
    "collapsed": true
   },
   "outputs": [],
   "source": [
    "df = pd.read_csv('USvideos.csv')"
   ]
  },
  {
   "cell_type": "code",
   "execution_count": 3,
   "metadata": {},
   "outputs": [
    {
     "data": {
      "text/html": [
       "<div>\n",
       "<style scoped>\n",
       "    .dataframe tbody tr th:only-of-type {\n",
       "        vertical-align: middle;\n",
       "    }\n",
       "\n",
       "    .dataframe tbody tr th {\n",
       "        vertical-align: top;\n",
       "    }\n",
       "\n",
       "    .dataframe thead th {\n",
       "        text-align: right;\n",
       "    }\n",
       "</style>\n",
       "<table border=\"1\" class=\"dataframe\">\n",
       "  <thead>\n",
       "    <tr style=\"text-align: right;\">\n",
       "      <th></th>\n",
       "      <th>video_id</th>\n",
       "      <th>trending_date</th>\n",
       "      <th>title</th>\n",
       "      <th>channel_title</th>\n",
       "      <th>category_id</th>\n",
       "      <th>publish_time</th>\n",
       "      <th>tags</th>\n",
       "      <th>views</th>\n",
       "      <th>likes</th>\n",
       "      <th>dislikes</th>\n",
       "      <th>comment_count</th>\n",
       "      <th>thumbnail_link</th>\n",
       "      <th>comments_disabled</th>\n",
       "      <th>ratings_disabled</th>\n",
       "      <th>video_error_or_removed</th>\n",
       "      <th>description</th>\n",
       "    </tr>\n",
       "  </thead>\n",
       "  <tbody>\n",
       "    <tr>\n",
       "      <th>0</th>\n",
       "      <td>2kyS6SvSYSE</td>\n",
       "      <td>17.14.11</td>\n",
       "      <td>WE WANT TO TALK ABOUT OUR MARRIAGE</td>\n",
       "      <td>CaseyNeistat</td>\n",
       "      <td>22</td>\n",
       "      <td>2017-11-13T17:13:01.000Z</td>\n",
       "      <td>SHANtell martin</td>\n",
       "      <td>748374</td>\n",
       "      <td>57527</td>\n",
       "      <td>2966</td>\n",
       "      <td>15954</td>\n",
       "      <td>https://i.ytimg.com/vi/2kyS6SvSYSE/default.jpg</td>\n",
       "      <td>False</td>\n",
       "      <td>False</td>\n",
       "      <td>False</td>\n",
       "      <td>SHANTELL'S CHANNEL - https://www.youtube.com/s...</td>\n",
       "    </tr>\n",
       "    <tr>\n",
       "      <th>1</th>\n",
       "      <td>1ZAPwfrtAFY</td>\n",
       "      <td>17.14.11</td>\n",
       "      <td>The Trump Presidency: Last Week Tonight with J...</td>\n",
       "      <td>LastWeekTonight</td>\n",
       "      <td>24</td>\n",
       "      <td>2017-11-13T07:30:00.000Z</td>\n",
       "      <td>last week tonight trump presidency|\"last week ...</td>\n",
       "      <td>2418783</td>\n",
       "      <td>97185</td>\n",
       "      <td>6146</td>\n",
       "      <td>12703</td>\n",
       "      <td>https://i.ytimg.com/vi/1ZAPwfrtAFY/default.jpg</td>\n",
       "      <td>False</td>\n",
       "      <td>False</td>\n",
       "      <td>False</td>\n",
       "      <td>One year after the presidential election, John...</td>\n",
       "    </tr>\n",
       "    <tr>\n",
       "      <th>2</th>\n",
       "      <td>5qpjK5DgCt4</td>\n",
       "      <td>17.14.11</td>\n",
       "      <td>Racist Superman | Rudy Mancuso, King Bach &amp; Le...</td>\n",
       "      <td>Rudy Mancuso</td>\n",
       "      <td>23</td>\n",
       "      <td>2017-11-12T19:05:24.000Z</td>\n",
       "      <td>racist superman|\"rudy\"|\"mancuso\"|\"king\"|\"bach\"...</td>\n",
       "      <td>3191434</td>\n",
       "      <td>146033</td>\n",
       "      <td>5339</td>\n",
       "      <td>8181</td>\n",
       "      <td>https://i.ytimg.com/vi/5qpjK5DgCt4/default.jpg</td>\n",
       "      <td>False</td>\n",
       "      <td>False</td>\n",
       "      <td>False</td>\n",
       "      <td>WATCH MY PREVIOUS VIDEO ▶ \\n\\nSUBSCRIBE ► http...</td>\n",
       "    </tr>\n",
       "    <tr>\n",
       "      <th>3</th>\n",
       "      <td>puqaWrEC7tY</td>\n",
       "      <td>17.14.11</td>\n",
       "      <td>Nickelback Lyrics: Real or Fake?</td>\n",
       "      <td>Good Mythical Morning</td>\n",
       "      <td>24</td>\n",
       "      <td>2017-11-13T11:00:04.000Z</td>\n",
       "      <td>rhett and link|\"gmm\"|\"good mythical morning\"|\"...</td>\n",
       "      <td>343168</td>\n",
       "      <td>10172</td>\n",
       "      <td>666</td>\n",
       "      <td>2146</td>\n",
       "      <td>https://i.ytimg.com/vi/puqaWrEC7tY/default.jpg</td>\n",
       "      <td>False</td>\n",
       "      <td>False</td>\n",
       "      <td>False</td>\n",
       "      <td>Today we find out if Link is a Nickelback amat...</td>\n",
       "    </tr>\n",
       "    <tr>\n",
       "      <th>4</th>\n",
       "      <td>d380meD0W0M</td>\n",
       "      <td>17.14.11</td>\n",
       "      <td>I Dare You: GOING BALD!?</td>\n",
       "      <td>nigahiga</td>\n",
       "      <td>24</td>\n",
       "      <td>2017-11-12T18:01:41.000Z</td>\n",
       "      <td>ryan|\"higa\"|\"higatv\"|\"nigahiga\"|\"i dare you\"|\"...</td>\n",
       "      <td>2095731</td>\n",
       "      <td>132235</td>\n",
       "      <td>1989</td>\n",
       "      <td>17518</td>\n",
       "      <td>https://i.ytimg.com/vi/d380meD0W0M/default.jpg</td>\n",
       "      <td>False</td>\n",
       "      <td>False</td>\n",
       "      <td>False</td>\n",
       "      <td>I know it's been a while since we did this sho...</td>\n",
       "    </tr>\n",
       "  </tbody>\n",
       "</table>\n",
       "</div>"
      ],
      "text/plain": [
       "      video_id trending_date  \\\n",
       "0  2kyS6SvSYSE      17.14.11   \n",
       "1  1ZAPwfrtAFY      17.14.11   \n",
       "2  5qpjK5DgCt4      17.14.11   \n",
       "3  puqaWrEC7tY      17.14.11   \n",
       "4  d380meD0W0M      17.14.11   \n",
       "\n",
       "                                               title          channel_title  \\\n",
       "0                 WE WANT TO TALK ABOUT OUR MARRIAGE           CaseyNeistat   \n",
       "1  The Trump Presidency: Last Week Tonight with J...        LastWeekTonight   \n",
       "2  Racist Superman | Rudy Mancuso, King Bach & Le...           Rudy Mancuso   \n",
       "3                   Nickelback Lyrics: Real or Fake?  Good Mythical Morning   \n",
       "4                           I Dare You: GOING BALD!?               nigahiga   \n",
       "\n",
       "   category_id              publish_time  \\\n",
       "0           22  2017-11-13T17:13:01.000Z   \n",
       "1           24  2017-11-13T07:30:00.000Z   \n",
       "2           23  2017-11-12T19:05:24.000Z   \n",
       "3           24  2017-11-13T11:00:04.000Z   \n",
       "4           24  2017-11-12T18:01:41.000Z   \n",
       "\n",
       "                                                tags    views   likes  \\\n",
       "0                                    SHANtell martin   748374   57527   \n",
       "1  last week tonight trump presidency|\"last week ...  2418783   97185   \n",
       "2  racist superman|\"rudy\"|\"mancuso\"|\"king\"|\"bach\"...  3191434  146033   \n",
       "3  rhett and link|\"gmm\"|\"good mythical morning\"|\"...   343168   10172   \n",
       "4  ryan|\"higa\"|\"higatv\"|\"nigahiga\"|\"i dare you\"|\"...  2095731  132235   \n",
       "\n",
       "   dislikes  comment_count                                  thumbnail_link  \\\n",
       "0      2966          15954  https://i.ytimg.com/vi/2kyS6SvSYSE/default.jpg   \n",
       "1      6146          12703  https://i.ytimg.com/vi/1ZAPwfrtAFY/default.jpg   \n",
       "2      5339           8181  https://i.ytimg.com/vi/5qpjK5DgCt4/default.jpg   \n",
       "3       666           2146  https://i.ytimg.com/vi/puqaWrEC7tY/default.jpg   \n",
       "4      1989          17518  https://i.ytimg.com/vi/d380meD0W0M/default.jpg   \n",
       "\n",
       "   comments_disabled  ratings_disabled  video_error_or_removed  \\\n",
       "0              False             False                   False   \n",
       "1              False             False                   False   \n",
       "2              False             False                   False   \n",
       "3              False             False                   False   \n",
       "4              False             False                   False   \n",
       "\n",
       "                                         description  \n",
       "0  SHANTELL'S CHANNEL - https://www.youtube.com/s...  \n",
       "1  One year after the presidential election, John...  \n",
       "2  WATCH MY PREVIOUS VIDEO ▶ \\n\\nSUBSCRIBE ► http...  \n",
       "3  Today we find out if Link is a Nickelback amat...  \n",
       "4  I know it's been a while since we did this sho...  "
      ]
     },
     "execution_count": 3,
     "metadata": {},
     "output_type": "execute_result"
    }
   ],
   "source": [
    "df.head()"
   ]
  },
  {
   "cell_type": "code",
   "execution_count": 4,
   "metadata": {
    "scrolled": true
   },
   "outputs": [
    {
     "data": {
      "text/plain": [
       "video_id                    0\n",
       "trending_date               0\n",
       "title                       0\n",
       "channel_title               0\n",
       "category_id                 0\n",
       "publish_time                0\n",
       "tags                        0\n",
       "views                       0\n",
       "likes                       0\n",
       "dislikes                    0\n",
       "comment_count               0\n",
       "thumbnail_link              0\n",
       "comments_disabled           0\n",
       "ratings_disabled            0\n",
       "video_error_or_removed      0\n",
       "description               570\n",
       "dtype: int64"
      ]
     },
     "execution_count": 4,
     "metadata": {},
     "output_type": "execute_result"
    }
   ],
   "source": [
    "df.isna().sum()"
   ]
  },
  {
   "cell_type": "code",
   "execution_count": 5,
   "metadata": {},
   "outputs": [
    {
     "data": {
      "text/plain": [
       "Index(['video_id', 'trending_date', 'title', 'channel_title', 'category_id',\n",
       "       'publish_time', 'tags', 'views', 'likes', 'dislikes', 'comment_count',\n",
       "       'thumbnail_link', 'comments_disabled', 'ratings_disabled',\n",
       "       'video_error_or_removed', 'description'],\n",
       "      dtype='object')"
      ]
     },
     "execution_count": 5,
     "metadata": {},
     "output_type": "execute_result"
    }
   ],
   "source": [
    "df.columns"
   ]
  },
  {
   "cell_type": "code",
   "execution_count": 6,
   "metadata": {},
   "outputs": [],
   "source": [
    "df_no_na = df.copy().drop(['comments_disabled', 'ratings_disabled','video_error_or_removed'], axis=1)"
   ]
  },
  {
   "cell_type": "code",
   "execution_count": 7,
   "metadata": {
    "collapsed": true,
    "scrolled": true
   },
   "outputs": [],
   "source": [
    "import datetime\n",
    "df_no_na['publish_time'] =  pd.to_datetime(df_no_na['publish_time'], format='%Y-%m-%dT%H:%M:%S.%fZ')"
   ]
  },
  {
   "cell_type": "code",
   "execution_count": 8,
   "metadata": {
    "collapsed": true,
    "scrolled": true
   },
   "outputs": [],
   "source": [
    "df_no_na['trending_date'] =  pd.to_datetime(df_no_na['trending_date'], format='%y.%d.%m')"
   ]
  },
  {
   "cell_type": "code",
   "execution_count": 9,
   "metadata": {
    "collapsed": true
   },
   "outputs": [],
   "source": [
    "df_after_17 = df_no_na[df_no_na['publish_time'].dt.year >2017]"
   ]
  },
  {
   "cell_type": "code",
   "execution_count": 10,
   "metadata": {
    "collapsed": true
   },
   "outputs": [],
   "source": [
    "df_final = df_after_17[(df_after_17['trending_date'] >= '2018-01-01') & (df_after_17['trending_date'] <= '2018-05-01')]"
   ]
  },
  {
   "cell_type": "code",
   "execution_count": 11,
   "metadata": {
    "collapsed": true
   },
   "outputs": [],
   "source": [
    "ids = df_final.video_id.unique()"
   ]
  },
  {
   "cell_type": "code",
   "execution_count": 12,
   "metadata": {
    "collapsed": true
   },
   "outputs": [],
   "source": [
    "to_be_removed =[]\n",
    "for curr_id in ids:\n",
    "    cur = df_final[df_final['video_id']==curr_id]\n",
    "    for index, row in cur.iterrows():\n",
    "        if str(row['trending_date']) == '2018-05-01 00:00:00':\n",
    "            to_be_removed+= [curr_id]\n",
    "            break    "
   ]
  },
  {
   "cell_type": "code",
   "execution_count": 13,
   "metadata": {},
   "outputs": [
    {
     "data": {
      "text/plain": [
       "21480"
      ]
     },
     "execution_count": 13,
     "metadata": {},
     "output_type": "execute_result"
    }
   ],
   "source": [
    "len(df_final)"
   ]
  },
  {
   "cell_type": "code",
   "execution_count": 14,
   "metadata": {
    "collapsed": true
   },
   "outputs": [],
   "source": [
    "for curr_id in to_be_removed:\n",
    "    df_final = df_final[df_final['video_id']!= curr_id]"
   ]
  },
  {
   "cell_type": "code",
   "execution_count": 15,
   "metadata": {},
   "outputs": [
    {
     "data": {
      "text/plain": [
       "20068"
      ]
     },
     "execution_count": 15,
     "metadata": {},
     "output_type": "execute_result"
    }
   ],
   "source": [
    "len(df_final)"
   ]
  },
  {
   "cell_type": "code",
   "execution_count": 16,
   "metadata": {
    "collapsed": true
   },
   "outputs": [],
   "source": [
    "df_final.to_csv(\"US_final.csv\",index=False,sep=\"\\\\\")"
   ]
  },
  {
   "cell_type": "code",
   "execution_count": 17,
   "metadata": {
    "collapsed": true,
    "scrolled": true
   },
   "outputs": [],
   "source": [
    "df_us = pd.read_csv(\"US_final.csv\",sep=\"\\\\\")"
   ]
  },
  {
   "cell_type": "code",
   "execution_count": 18,
   "metadata": {
    "collapsed": true
   },
   "outputs": [],
   "source": [
    "# add url link column\n",
    "df_us[\"video_url\"] = \"https://www.youtube.com/watch?v=\"+df_us[\"video_id\"]"
   ]
  },
  {
   "cell_type": "code",
   "execution_count": 19,
   "metadata": {
    "collapsed": true
   },
   "outputs": [],
   "source": [
    "#clean tags\n",
    "df_tags_cleaned = df_us.copy()\n",
    "new_tags = []\n",
    "for index, row in df_us.iterrows():\n",
    "    temp_tags= '|'.join([tag.strip().strip('\"').strip('“').strip('”').strip() for tag in df_us.iloc[index][\"tags\"].split(\"|\")])\n",
    "    new_tags += [temp_tags]\n",
    "df_tags_cleaned[\"tags\"] = new_tags"
   ]
  },
  {
   "cell_type": "code",
   "execution_count": 20,
   "metadata": {
    "collapsed": true
   },
   "outputs": [],
   "source": [
    "df_tags_cleaned = df_tags_cleaned[df_tags_cleaned[\"tags\"]!=\"[none]\"]"
   ]
  },
  {
   "cell_type": "code",
   "execution_count": 21,
   "metadata": {
    "collapsed": true
   },
   "outputs": [],
   "source": [
    "#add colunmns for category name and category cluster\n",
    "cate_map = {43 : \"Entertainment\",29 : \"Nonprofits & Activism\",28 : \"Science & Technology\",27 : \"Education\",26 : \"Howto & Style\",25 : \"News & Politics\",24 : \"Entertainment\",23 : \"Comedy\",22 : \"People & Blogs\",20 : \"Gaming\",19 : \"Travel & Events\",17 : \"Sports\",15 : \"Pets & Animals\",10 : \"Music\",2 : \"Autos & Vehicles\",1 : \"Film & Animation\"}\n",
    "cluster_map = {43 : \"Entertainment\",29 : \"Activism\",28 : \"Technology\",27 : \"Education\",26 : \"Lifestyle\",25 : \"News\",24 : \"Entertainment\",23 : \"Entertainment\",22 \n",
    ": \"Lifestyle\",20 : \"Entertainment\",19 : \"Lifestyle\",17 : \"Entertainment\",15 : \"Entertainment\",10 : \"Entertainment\",2 : \"Lifestyle\",1 : \"Entertainment\"}\n",
    "\n",
    "df_with_cate = df_tags_cleaned.copy()\n",
    "df_with_cate['category_name']=\"none\"\n",
    "df_with_cate['cluster']=\"none\"\n",
    "\n",
    "for index, row in df_with_cate.iterrows():\n",
    "    df_with_cate.at[index,\"category_name\"] = cate_map[df_with_cate.at[index,\"category_id\"]]\n",
    "    df_with_cate.at[index,\"cluster\"] = cluster_map[df_with_cate.at[index,\"category_id\"]] \n",
    "\n"
   ]
  },
  {
   "cell_type": "code",
   "execution_count": 22,
   "metadata": {
    "collapsed": true,
    "scrolled": true
   },
   "outputs": [],
   "source": [
    "#clean date format\n",
    "import datetime\n",
    "import math\n",
    "def days_taken_to_trend(start_time,end_time):\n",
    "    def to_datetime(date_str):\n",
    "        return datetime.datetime.strptime(date_str, '%Y-%m-%d %H:%M:%S')\n",
    "#     start = to_datetime(df_tags_cleaned.iloc[0][\"publish_time\"])\n",
    "    start = to_datetime(publish_time)\n",
    "    end = to_datetime(trending_time)\n",
    "\n",
    "    delta_days = (end-start if end>start else datetime.timedelta(days=1)-(start-end)).total_seconds()/(3600*24)\n",
    "    return delta_days"
   ]
  },
  {
   "cell_type": "code",
   "execution_count": 23,
   "metadata": {
    "collapsed": true
   },
   "outputs": [],
   "source": [
    "#calculate temperature\n",
    "#temp_raw_score = views*0.2+likes*0.3+cemment_count*0.5\n",
    "#if not first day in trending : temp_score = (temp_raw_score of today - temp_raw_score of prev day)/ delta_day\n",
    "#if first day in trending : temp_score = (temp_raw_score of today)/ delta_day since publish\n",
    "\n",
    "unique_videos= df_with_cate.video_id.unique()\n",
    "df_with_temp = df_with_cate.copy()\n",
    "df_with_temp['temperature'] = 0\n",
    "# print(unique_videos[:2])\n",
    "for curr_vid in unique_videos:\n",
    "    curr_df = df_with_temp[df_with_temp[\"video_id\"]==curr_vid]\n",
    "    i = 0\n",
    "    prev_index = 0\n",
    "    prev_raw_score = 0\n",
    "    for index, row in curr_df.iterrows():\n",
    "#         curr_raw_score = row[\"views\"]*0.2+row[\"likes\"]*0.3+row[\"comment_count\"]*0.5\n",
    "        curr_raw_score = row[\"views\"]\n",
    "        if i==0: #first day\n",
    "            publish_time = row[\"publish_time\"]\n",
    "            trending_time = row[\"trending_date\"]\n",
    "            delta_days = float(days_taken_to_trend(publish_time,trending_time))\n",
    "            curr_temp = curr_raw_score/delta_days\n",
    "        else:\n",
    "            start_time = curr_df.loc[prev_index][\"trending_date\"]\n",
    "            end_time = curr_df.loc[index][\"trending_date\"]\n",
    "            delta_days = math.ceil(days_taken_to_trend(start_time,end_time))\n",
    "            curr_temp = (curr_raw_score-prev_raw_score)/delta_days\n",
    "            if curr_raw_score < prev_raw_score:\n",
    "                curr_temp = curr_raw_score / delta_days\n",
    "            \n",
    "        df_with_temp.at[index,\"temperature\"] = round(curr_temp,2)\n",
    "        \n",
    "        i+=1\n",
    "        prev_index = index\n",
    "        prev_raw_score = curr_raw_score\n",
    "    "
   ]
  },
  {
   "cell_type": "code",
   "execution_count": 24,
   "metadata": {
    "collapsed": true
   },
   "outputs": [],
   "source": [
    "#scale temperature down to [0~100]\n",
    "df_with_temp_scaled = df_with_temp.copy()\n",
    "temp_range = math.log(max(df_with_temp[\"temperature\"])-min(df_with_temp[\"temperature\"]))\n",
    "for index, row in df_with_temp.iterrows():\n",
    "    try:\n",
    "        df_with_temp_scaled.at[index,\"temperature\"] = math.log(df_with_temp.at[index,\"temperature\"])/temp_range*100\n",
    "    except:\n",
    "        df_with_temp_scaled.at[index,\"temperature\"] = math.log(0.001)/temp_range*100"
   ]
  },
  {
   "cell_type": "code",
   "execution_count": 25,
   "metadata": {},
   "outputs": [],
   "source": [
    "#like:dislike ratio\n",
    "df_ratio = df_with_temp_scaled.copy()\n",
    "df_ratio[\"ratio\"] = 0\n",
    "for i in df_ratio.index:\n",
    "    ratio = df_ratio.at[i,\"likes\"]/df_ratio.at[i,\"dislikes\"] if df_ratio.at[i,\"dislikes\"]!=0 else df_ratio.at[i,\"likes\"]\n",
    "    df_ratio.at[i,\"ratio\"] = ratio"
   ]
  },
  {
   "cell_type": "code",
   "execution_count": 26,
   "metadata": {
    "scrolled": true
   },
   "outputs": [],
   "source": [
    "#calculate trending length\n",
    "df_trending_length = df_ratio.copy()\n",
    "df_trending_length[\"trending_length\"] = \"\" \n",
    "id_date_map = {}\n",
    "for vid in unique_videos:\n",
    "    mindate = df_trending_length[df_trending_length[\"video_id\"]==vid][\"trending_date\"].min()\n",
    "    id_date_map[vid] = mindate\n",
    "for i in df_trending_length.index:\n",
    "    days = pd.to_datetime(df_trending_length.at[i,\"trending_date\"])-pd.to_datetime(id_date_map[df_trending_length.at[i,\"video_id\"]])\n",
    "    df_trending_length.at[i,\"trending_length\"] = str(days).split(' ')[0]"
   ]
  },
  {
   "cell_type": "code",
   "execution_count": 27,
   "metadata": {},
   "outputs": [
    {
     "data": {
      "text/plain": [
       "array(['Entertainment', 'Music', 'Gaming', 'Education', 'Sports',\n",
       "       'News & Politics', 'People & Blogs', 'Howto & Style',\n",
       "       'Science & Technology', 'Pets & Animals', 'Comedy',\n",
       "       'Travel & Events', 'Film & Animation', 'Nonprofits & Activism',\n",
       "       'Autos & Vehicles'], dtype=object)"
      ]
     },
     "execution_count": 27,
     "metadata": {},
     "output_type": "execute_result"
    }
   ],
   "source": [
    "df_trending_length[\"category_name\"].unique()"
   ]
  },
  {
   "cell_type": "code",
   "execution_count": 28,
   "metadata": {
    "collapsed": true
   },
   "outputs": [],
   "source": [
    "#calculate trending length\n",
    "money_map = {\"Entertainment\":2.5,\"Music\":2.5,\"Gaming\":6,\"Education\":3.9,'Sports':3,'News & Politics':2,\n",
    "            'People & Blogs':3.4,'Howto & Style':4.5,\n",
    "       'Science & Technology':3.9, 'Pets & Animals':3.9, 'Comedy':2.5,\n",
    "       'Travel & Events':3.2, 'Film & Animation':3.6, 'Nonprofits & Activism':2.6,\n",
    "       'Autos & Vehicles':3}\n",
    "df_money = df_trending_length.copy()\n",
    "df_money['income'] =0\n",
    "for i in df_money.index:\n",
    "     df_money.at[i,'income'] = (df_money.at[i,\"views\"]+df_money.at[i,\"likes\"]+df_money.at[i,\"comment_count\"]-df_money.at[i,\"dislikes\"])/1000*money_map[df_money.at[i,\"category_name\"]]\n",
    "        \n"
   ]
  },
  {
   "cell_type": "code",
   "execution_count": 29,
   "metadata": {
    "collapsed": true
   },
   "outputs": [],
   "source": [
    "df_money.to_csv(\"US_final.csv\",index=False,sep=\"\\\\\")"
   ]
  },
  {
   "cell_type": "code",
   "execution_count": 30,
   "metadata": {},
   "outputs": [
    {
     "data": {
      "text/plain": [
       "843"
      ]
     },
     "execution_count": 30,
     "metadata": {},
     "output_type": "execute_result"
    }
   ],
   "source": [
    "df_money[\"ratio\"].max()"
   ]
  },
  {
   "cell_type": "code",
   "execution_count": null,
   "metadata": {
    "collapsed": true
   },
   "outputs": [],
   "source": []
  }
 ],
 "metadata": {
  "kernelspec": {
   "display_name": "Python 3",
   "language": "python",
   "name": "python3"
  },
  "language_info": {
   "codemirror_mode": {
    "name": "ipython",
    "version": 3
   },
   "file_extension": ".py",
   "mimetype": "text/x-python",
   "name": "python",
   "nbconvert_exporter": "python",
   "pygments_lexer": "ipython3",
   "version": "3.6.7"
  }
 },
 "nbformat": 4,
 "nbformat_minor": 2
}
